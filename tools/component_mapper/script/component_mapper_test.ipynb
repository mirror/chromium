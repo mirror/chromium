{
 "cells": [
  {
   "cell_type": "markdown",
   "metadata": {},
   "source": [
    "# Component mapper test script"
   ]
  },
  {
   "cell_type": "markdown",
   "metadata": {},
   "source": [
    "## prepare ground truth mapping"
   ]
  },
  {
   "cell_type": "code",
   "execution_count": 1,
   "metadata": {
    "collapsed": true
   },
   "outputs": [],
   "source": [
    "from groundtruth_mapping import GroundTruthMapping"
   ]
  },
  {
   "cell_type": "code",
   "execution_count": 3,
   "metadata": {
    "collapsed": true
   },
   "outputs": [],
   "source": [
    "groundtruth_mapping = GroundTruthMapping()\n",
    "groundtruth_mapping.load_mapping_from_json_file()\n",
    "groundtruth_mapping.add_parent_component()\n",
    "groundtruth_mapping.normalize_mapping()"
   ]
  },
  {
   "cell_type": "code",
   "execution_count": 4,
   "metadata": {
    "collapsed": false
   },
   "outputs": [],
   "source": [
    "#print groundtruth_mapping.complete_mappings"
   ]
  },
  {
   "cell_type": "markdown",
   "metadata": {},
   "source": [
    "## get complete component lists "
   ]
  },
  {
   "cell_type": "code",
   "execution_count": 5,
   "metadata": {
    "collapsed": true
   },
   "outputs": [],
   "source": [
    "from component_tree import ComponentTree"
   ]
  },
  {
   "cell_type": "code",
   "execution_count": 6,
   "metadata": {
    "collapsed": true
   },
   "outputs": [],
   "source": [
    "component_tree = ComponentTree()\n",
    "component_tree.get_component_from_database()\n",
    "component_tree.get_component_labels()"
   ]
  },
  {
   "cell_type": "code",
   "execution_count": 7,
   "metadata": {
    "collapsed": false
   },
   "outputs": [],
   "source": [
    "#print component_tree.component_defs\n",
    "#print component_tree.component_labels"
   ]
  },
  {
   "cell_type": "markdown",
   "metadata": {},
   "source": [
    "## tune model on training set"
   ]
  },
  {
   "cell_type": "code",
   "execution_count": 8,
   "metadata": {
    "collapsed": false
   },
   "outputs": [
    {
     "name": "stderr",
     "output_type": "stream",
     "text": [
      "/usr/local/google/home/ymzhang/anaconda2/envs/py27/lib/python2.7/site-packages/sklearn/cross_validation.py:44: DeprecationWarning: This module was deprecated in version 0.18 in favor of the model_selection module into which all the refactored classes and functions are moved. Also note that the interface of the new CV iterators are different from that of this module. This module will be removed in 0.20.\n",
      "  \"This module will be removed in 0.20.\", DeprecationWarning)\n"
     ]
    }
   ],
   "source": [
    "import train_model"
   ]
  },
  {
   "cell_type": "markdown",
   "metadata": {},
   "source": [
    "## tune model on training set "
   ]
  },
  {
   "cell_type": "code",
   "execution_count": 9,
   "metadata": {
    "collapsed": false
   },
   "outputs": [],
   "source": [
    "model_metric = train_model.tune_model_on_trainset(groundtruth_mapping.complete_mappings,\n",
    "                                                  component_tree.component_defs,\n",
    "                                                  component_tree.component_labels,'decision_tree')"
   ]
  },
  {
   "cell_type": "code",
   "execution_count": 14,
   "metadata": {
    "collapsed": false
   },
   "outputs": [
    {
     "name": "stdout",
     "output_type": "stream",
     "text": [
      "instance level accuracy:\n",
      "0.999497467951\n",
      "instance level recall:\n",
      "0.918424987539\n",
      "directory level recall\n",
      "0.967988865692\n"
     ]
    }
   ],
   "source": [
    "print \"instance level accuracy:\"\n",
    "print model_metric[\"accuracy_instance\"]\n",
    "print \"instance level recall:\"\n",
    "print model_metric[\"recall_instance\"]\n",
    "print \"directory level recall\"\n",
    "print model_metric[\"recall_dir\"]\n",
    "#print model_metric[\"error_dir\"]\n",
    "#print model_metric[\"error_dir_missing_component\"]"
   ]
  },
  {
   "cell_type": "markdown",
   "metadata": {},
   "source": [
    "## train model "
   ]
  },
  {
   "cell_type": "code",
   "execution_count": 15,
   "metadata": {
    "collapsed": true
   },
   "outputs": [],
   "source": [
    "tfidf_transformer, bigram_vectorizer, components, clf = train_model.train_model(groundtruth_mapping.complete_mappings, \n",
    "                                                                                component_tree.component_defs, \n",
    "                                                                                component_tree.component_labels,  \n",
    "                                                                                'decision_tree')"
   ]
  },
  {
   "cell_type": "markdown",
   "metadata": {},
   "source": [
    "## check model on training set"
   ]
  },
  {
   "cell_type": "code",
   "execution_count": 27,
   "metadata": {
    "collapsed": true
   },
   "outputs": [],
   "source": [
    "model_metric_train = train_model.evaluate_model_on_trainset(groundtruth_mapping.complete_mappings, \n",
    "                                                      component_tree.component_labels, \n",
    "                                                      bigram_vectorizer, tfidf_transformer, clf)"
   ]
  },
  {
   "cell_type": "code",
   "execution_count": 28,
   "metadata": {
    "collapsed": false
   },
   "outputs": [
    {
     "name": "stdout",
     "output_type": "stream",
     "text": [
      "1.0\n",
      "1.0\n",
      "1.0\n",
      "defaultdict(<type 'list'>, {})\n",
      "defaultdict(<type 'list'>, {})\n"
     ]
    }
   ],
   "source": [
    "print model_metric_train[\"accuracy_instance\"]\n",
    "print model_metric_train[\"recall_instance\"]\n",
    "print model_metric_train[\"recall_dir\"]\n",
    "#print model_metric_train[\"error_dir\"]\n",
    "#print model_metric_train[\"error_dir_missing_component\"]"
   ]
  },
  {
   "cell_type": "markdown",
   "metadata": {},
   "source": [
    "## test prediction with a list of directories "
   ]
  },
  {
   "cell_type": "code",
   "execution_count": 25,
   "metadata": {
    "collapsed": true
   },
   "outputs": [],
   "source": [
    "check_list = [ \n",
    "    \"src/third_party/WebKit/Source/modules/geolocation\", \n",
    "    \"src/third_party/WebKit/Source/modules/vibration\", \n",
    "    \"src/components/gcm_driver/android\", \n",
    "    \"src/content/public/android/javatests/src/org/chromium/content/browser\", \n",
    "    \"src/device/geolocation/public/interfaces\"\n",
    "]"
   ]
  },
  {
   "cell_type": "code",
   "execution_count": 26,
   "metadata": {
    "collapsed": false
   },
   "outputs": [
    {
     "name": "stdout",
     "output_type": "stream",
     "text": [
      "Blink, Blink>Location\n",
      "Blink, Blink>Storage\n",
      "Services, Services>CloudMessaging\n",
      "Blink, Blink>Storage\n",
      "Manifest\n"
     ]
    }
   ],
   "source": [
    "predict_compos = train_model.predict_component(check_list, tfidf_transformer, bigram_vectorizer, components, clf)\n",
    "for i in range(0, len(check_list)):\n",
    "    print \", \".join(predict_compos[i])"
   ]
  },
  {
   "cell_type": "code",
   "execution_count": null,
   "metadata": {
    "collapsed": true
   },
   "outputs": [],
   "source": []
  }
 ],
 "metadata": {
  "kernelspec": {
   "display_name": "Python [py27]",
   "language": "python",
   "name": "Python [py27]"
  },
  "language_info": {
   "codemirror_mode": {
    "name": "ipython",
    "version": 2
   },
   "file_extension": ".py",
   "mimetype": "text/x-python",
   "name": "python",
   "nbconvert_exporter": "python",
   "pygments_lexer": "ipython2",
   "version": "2.7.12"
  }
 },
 "nbformat": 4,
 "nbformat_minor": 0
}
